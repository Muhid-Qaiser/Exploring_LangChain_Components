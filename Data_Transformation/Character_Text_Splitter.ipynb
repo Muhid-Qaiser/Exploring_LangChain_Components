{
 "cells": [
  {
   "cell_type": "markdown",
   "metadata": {},
   "source": [
    "Created by Muhid Qaiser \n",
    "\n",
    "Email : muhidqaiser02@gmail.com \n",
    "\n",
    "Linkedin : https://www.linkedin.com/in/muhid-qaiser/\n",
    "\n",
    "Github : https://github.com/Muhid-Qaiser"
   ]
  },
  {
   "cell_type": "markdown",
   "metadata": {},
   "source": [
    "# Text Splitting From Documents using Character Text Splitter"
   ]
  },
  {
   "cell_type": "code",
   "execution_count": 1,
   "metadata": {},
   "outputs": [
    {
     "data": {
      "text/plain": [
       "[Document(metadata={'source': '../Documnets/Global_Warming_Pak.txt'}, page_content='Global Warming in Pakistan: A Looming Crisis\\n\\nIntroduction\\n\\nGlobal warming is one of the most pressing environmental challenges of the 21st century, and Pakistan is among the countries most vulnerable to its effects. Rising temperatures, melting glaciers, changing precipitation patterns, and increasing frequency of extreme weather events are severely impacting Pakistanâ€™s ecosystem, economy, and society. This essay explores the causes, consequences, and potential solutions to global warming in Pakistan.\\n\\nCauses of Global Warming in Pakistan\\n\\nThe primary driver of global warming in Pakistan, as elsewhere, is the excessive emission of greenhouse gases (GHGs) such as carbon dioxide (CO2), methane (CH4), and nitrous oxide (N2O). These emissions result from industrial activities, deforestation, and the burning of fossil fuels for energy production and transportation. In Pakistan, the major contributors to greenhouse gas emissions include:\\n\\nDeforestation: Pakistan has one of the highest deforestation rates in the world. Large-scale cutting of trees for fuel, agriculture, and urban expansion has significantly reduced the countryâ€™s forest cover, thereby decreasing the natural absorption of CO2.\\n\\nEnergy Sector: The reliance on coal, oil, and gas for electricity generation and transportation contributes significantly to carbon emissions. Despite efforts to promote renewable energy, fossil fuels still dominate Pakistanâ€™s energy mix.\\n\\nAgricultural Practices: Unsustainable agricultural methods, including excessive use of chemical fertilizers and inefficient irrigation techniques, contribute to methane and nitrous oxide emissions.\\n\\nIndustrialization: Rapid industrialization without adequate environmental regulations leads to unchecked emissions of pollutants that contribute to global warming.\\n\\nConsequences of Global Warming in Pakistan\\n\\nThe impact of global warming in Pakistan is already evident in multiple ways:\\n\\nRising Temperatures: Pakistan has experienced record-breaking heatwaves in recent years. The temperature in some regions, such as Jacobabad and Sibi, has exceeded 50Â°C, making them among the hottest places on Earth.\\n\\nGlacial Melting: The countryâ€™s glaciers, particularly in the northern regions, are melting at an alarming rate due to rising temperatures. This leads to glacial lake outburst floods (GLOFs), endangering nearby communities.\\n\\nWater Scarcity: Changes in precipitation patterns and glacial melt are disrupting the water supply in Pakistan. The Indus River, the countryâ€™s primary water source, is becoming increasingly unpredictable, posing a threat to agriculture and drinking water availability.\\n\\nExtreme Weather Events: Pakistan has witnessed a surge in extreme weather events, including floods, droughts, and storms. The devastating floods of 2022, which submerged one-third of the country and displaced millions, were exacerbated by climate change.\\n\\nAgricultural Decline: Climate change is negatively affecting crop yields, leading to food insecurity and economic instability. The unpredictability of monsoons and the increased frequency of droughts have made farming increasingly difficult.\\n\\nHealth Risks: The rise in temperatures and air pollution has led to an increase in heat-related illnesses, respiratory diseases, and vector-borne diseases such as dengue and malaria.\\n\\nSolutions to Global Warming in Pakistan\\n\\nWhile Pakistan faces severe climate challenges, several measures can be taken to mitigate the impact of global warming:\\n\\nAfforestation and Reforestation: Initiatives such as the Billion Tree Tsunami project should be expanded to increase forest cover and enhance carbon sequestration.\\n\\nRenewable Energy Transition: Investing in solar, wind, and hydropower can reduce reliance on fossil fuels and decrease greenhouse gas emissions.\\n\\nSustainable Agriculture: The adoption of climate-smart agricultural practices, such as efficient irrigation and organic farming, can help reduce methane and nitrous oxide emissions.\\n\\nImproved Water Management: Constructing more reservoirs, improving irrigation efficiency, and promoting water conservation can address water scarcity issues.\\n\\nDisaster Preparedness and Adaptation: Strengthening early warning systems, building climate-resilient infrastructure, and implementing effective disaster management strategies can mitigate the impact of extreme weather events.\\n\\nInternational Cooperation: Pakistan should actively participate in global climate initiatives, seek climate financing, and implement policies aligned with international climate agreements, such as the Paris Agreement.\\n\\nConclusion\\n\\nGlobal warming is a critical threat to Pakistan, with far-reaching consequences for its environment, economy, and people. Addressing this crisis requires a multi-faceted approach that includes afforestation, renewable energy adoption, sustainable agriculture, and improved disaster preparedness. While the government has initiated several programs to combat climate change, more concerted efforts are needed at the national and international levels to secure a sustainable future for Pakistan. Only through collective action can the country mitigate the effects of global warming and build resilience against future climate challenges.\\n\\n')]"
      ]
     },
     "execution_count": 1,
     "metadata": {},
     "output_type": "execute_result"
    }
   ],
   "source": [
    "from langchain_community.document_loaders import TextLoader\n",
    "\n",
    "loader = TextLoader(\"../Documnets/Global_Warming_Pak.txt\")\n",
    "docs = loader.load()\n",
    "docs"
   ]
  },
  {
   "cell_type": "code",
   "execution_count": null,
   "metadata": {},
   "outputs": [
    {
     "name": "stderr",
     "output_type": "stream",
     "text": [
      "Created a chunk of size 449, which is longer than the specified 100\n",
      "Created a chunk of size 399, which is longer than the specified 100\n",
      "Created a chunk of size 258, which is longer than the specified 100\n",
      "Created a chunk of size 240, which is longer than the specified 100\n",
      "Created a chunk of size 197, which is longer than the specified 100\n",
      "Created a chunk of size 163, which is longer than the specified 100\n",
      "Created a chunk of size 216, which is longer than the specified 100\n",
      "Created a chunk of size 224, which is longer than the specified 100\n",
      "Created a chunk of size 270, which is longer than the specified 100\n",
      "Created a chunk of size 254, which is longer than the specified 100\n",
      "Created a chunk of size 241, which is longer than the specified 100\n",
      "Created a chunk of size 182, which is longer than the specified 100\n",
      "Created a chunk of size 119, which is longer than the specified 100\n",
      "Created a chunk of size 163, which is longer than the specified 100\n",
      "Created a chunk of size 144, which is longer than the specified 100\n",
      "Created a chunk of size 181, which is longer than the specified 100\n",
      "Created a chunk of size 157, which is longer than the specified 100\n",
      "Created a chunk of size 226, which is longer than the specified 100\n",
      "Created a chunk of size 217, which is longer than the specified 100\n"
     ]
    },
    {
     "data": {
      "text/plain": [
       "[Document(metadata={'source': '../Documnets/Global_Warming_Pak.txt'}, page_content='Global Warming in Pakistan: A Looming Crisis\\n\\nIntroduction'),\n",
       " Document(metadata={'source': '../Documnets/Global_Warming_Pak.txt'}, page_content='Global warming is one of the most pressing environmental challenges of the 21st century, and Pakistan is among the countries most vulnerable to its effects. Rising temperatures, melting glaciers, changing precipitation patterns, and increasing frequency of extreme weather events are severely impacting Pakistanâ€™s ecosystem, economy, and society. This essay explores the causes, consequences, and potential solutions to global warming in Pakistan.'),\n",
       " Document(metadata={'source': '../Documnets/Global_Warming_Pak.txt'}, page_content='Causes of Global Warming in Pakistan'),\n",
       " Document(metadata={'source': '../Documnets/Global_Warming_Pak.txt'}, page_content='The primary driver of global warming in Pakistan, as elsewhere, is the excessive emission of greenhouse gases (GHGs) such as carbon dioxide (CO2), methane (CH4), and nitrous oxide (N2O). These emissions result from industrial activities, deforestation, and the burning of fossil fuels for energy production and transportation. In Pakistan, the major contributors to greenhouse gas emissions include:'),\n",
       " Document(metadata={'source': '../Documnets/Global_Warming_Pak.txt'}, page_content='Deforestation: Pakistan has one of the highest deforestation rates in the world. Large-scale cutting of trees for fuel, agriculture, and urban expansion has significantly reduced the countryâ€™s forest cover, thereby decreasing the natural absorption of CO2.'),\n",
       " Document(metadata={'source': '../Documnets/Global_Warming_Pak.txt'}, page_content='Energy Sector: The reliance on coal, oil, and gas for electricity generation and transportation contributes significantly to carbon emissions. Despite efforts to promote renewable energy, fossil fuels still dominate Pakistanâ€™s energy mix.'),\n",
       " Document(metadata={'source': '../Documnets/Global_Warming_Pak.txt'}, page_content='Agricultural Practices: Unsustainable agricultural methods, including excessive use of chemical fertilizers and inefficient irrigation techniques, contribute to methane and nitrous oxide emissions.'),\n",
       " Document(metadata={'source': '../Documnets/Global_Warming_Pak.txt'}, page_content='Industrialization: Rapid industrialization without adequate environmental regulations leads to unchecked emissions of pollutants that contribute to global warming.'),\n",
       " Document(metadata={'source': '../Documnets/Global_Warming_Pak.txt'}, page_content='Consequences of Global Warming in Pakistan'),\n",
       " Document(metadata={'source': '../Documnets/Global_Warming_Pak.txt'}, page_content='The impact of global warming in Pakistan is already evident in multiple ways:'),\n",
       " Document(metadata={'source': '../Documnets/Global_Warming_Pak.txt'}, page_content='Rising Temperatures: Pakistan has experienced record-breaking heatwaves in recent years. The temperature in some regions, such as Jacobabad and Sibi, has exceeded 50Â°C, making them among the hottest places on Earth.'),\n",
       " Document(metadata={'source': '../Documnets/Global_Warming_Pak.txt'}, page_content='Glacial Melting: The countryâ€™s glaciers, particularly in the northern regions, are melting at an alarming rate due to rising temperatures. This leads to glacial lake outburst floods (GLOFs), endangering nearby communities.'),\n",
       " Document(metadata={'source': '../Documnets/Global_Warming_Pak.txt'}, page_content='Water Scarcity: Changes in precipitation patterns and glacial melt are disrupting the water supply in Pakistan. The Indus River, the countryâ€™s primary water source, is becoming increasingly unpredictable, posing a threat to agriculture and drinking water availability.'),\n",
       " Document(metadata={'source': '../Documnets/Global_Warming_Pak.txt'}, page_content='Extreme Weather Events: Pakistan has witnessed a surge in extreme weather events, including floods, droughts, and storms. The devastating floods of 2022, which submerged one-third of the country and displaced millions, were exacerbated by climate change.'),\n",
       " Document(metadata={'source': '../Documnets/Global_Warming_Pak.txt'}, page_content='Agricultural Decline: Climate change is negatively affecting crop yields, leading to food insecurity and economic instability. The unpredictability of monsoons and the increased frequency of droughts have made farming increasingly difficult.'),\n",
       " Document(metadata={'source': '../Documnets/Global_Warming_Pak.txt'}, page_content='Health Risks: The rise in temperatures and air pollution has led to an increase in heat-related illnesses, respiratory diseases, and vector-borne diseases such as dengue and malaria.'),\n",
       " Document(metadata={'source': '../Documnets/Global_Warming_Pak.txt'}, page_content='Solutions to Global Warming in Pakistan'),\n",
       " Document(metadata={'source': '../Documnets/Global_Warming_Pak.txt'}, page_content='While Pakistan faces severe climate challenges, several measures can be taken to mitigate the impact of global warming:'),\n",
       " Document(metadata={'source': '../Documnets/Global_Warming_Pak.txt'}, page_content='Afforestation and Reforestation: Initiatives such as the Billion Tree Tsunami project should be expanded to increase forest cover and enhance carbon sequestration.'),\n",
       " Document(metadata={'source': '../Documnets/Global_Warming_Pak.txt'}, page_content='Renewable Energy Transition: Investing in solar, wind, and hydropower can reduce reliance on fossil fuels and decrease greenhouse gas emissions.'),\n",
       " Document(metadata={'source': '../Documnets/Global_Warming_Pak.txt'}, page_content='Sustainable Agriculture: The adoption of climate-smart agricultural practices, such as efficient irrigation and organic farming, can help reduce methane and nitrous oxide emissions.'),\n",
       " Document(metadata={'source': '../Documnets/Global_Warming_Pak.txt'}, page_content='Improved Water Management: Constructing more reservoirs, improving irrigation efficiency, and promoting water conservation can address water scarcity issues.'),\n",
       " Document(metadata={'source': '../Documnets/Global_Warming_Pak.txt'}, page_content='Disaster Preparedness and Adaptation: Strengthening early warning systems, building climate-resilient infrastructure, and implementing effective disaster management strategies can mitigate the impact of extreme weather events.'),\n",
       " Document(metadata={'source': '../Documnets/Global_Warming_Pak.txt'}, page_content='International Cooperation: Pakistan should actively participate in global climate initiatives, seek climate financing, and implement policies aligned with international climate agreements, such as the Paris Agreement.'),\n",
       " Document(metadata={'source': '../Documnets/Global_Warming_Pak.txt'}, page_content='Conclusion'),\n",
       " Document(metadata={'source': '../Documnets/Global_Warming_Pak.txt'}, page_content='Global warming is a critical threat to Pakistan, with far-reaching consequences for its environment, economy, and people. Addressing this crisis requires a multi-faceted approach that includes afforestation, renewable energy adoption, sustainable agriculture, and improved disaster preparedness. While the government has initiated several programs to combat climate change, more concerted efforts are needed at the national and international levels to secure a sustainable future for Pakistan. Only through collective action can the country mitigate the effects of global warming and build resilience against future climate challenges.')]"
      ]
     },
     "execution_count": 2,
     "metadata": {},
     "output_type": "execute_result"
    }
   ],
   "source": [
    "from langchain_text_splitters import CharacterTextSplitter\n",
    "\n",
    "text_splitter = CharacterTextSplitter(separator='\\n\\n', chunk_size=100, chunk_overlap=20)\n",
    "text_splitter.split_documents(docs)\n"
   ]
  },
  {
   "cell_type": "code",
   "execution_count": null,
   "metadata": {},
   "outputs": [],
   "source": []
  },
  {
   "cell_type": "code",
   "execution_count": 4,
   "metadata": {},
   "outputs": [
    {
     "name": "stderr",
     "output_type": "stream",
     "text": [
      "Created a chunk of size 449, which is longer than the specified 100\n",
      "Created a chunk of size 399, which is longer than the specified 100\n",
      "Created a chunk of size 258, which is longer than the specified 100\n",
      "Created a chunk of size 240, which is longer than the specified 100\n",
      "Created a chunk of size 197, which is longer than the specified 100\n",
      "Created a chunk of size 163, which is longer than the specified 100\n",
      "Created a chunk of size 216, which is longer than the specified 100\n",
      "Created a chunk of size 224, which is longer than the specified 100\n",
      "Created a chunk of size 270, which is longer than the specified 100\n",
      "Created a chunk of size 254, which is longer than the specified 100\n",
      "Created a chunk of size 241, which is longer than the specified 100\n",
      "Created a chunk of size 182, which is longer than the specified 100\n",
      "Created a chunk of size 119, which is longer than the specified 100\n",
      "Created a chunk of size 163, which is longer than the specified 100\n",
      "Created a chunk of size 144, which is longer than the specified 100\n",
      "Created a chunk of size 181, which is longer than the specified 100\n",
      "Created a chunk of size 157, which is longer than the specified 100\n",
      "Created a chunk of size 226, which is longer than the specified 100\n",
      "Created a chunk of size 217, which is longer than the specified 100\n"
     ]
    },
    {
     "data": {
      "text/plain": [
       "[Document(metadata={}, page_content='Global Warming in Pakistan: A Looming Crisis\\n\\nIntroduction'),\n",
       " Document(metadata={}, page_content='Global warming is one of the most pressing environmental challenges of the 21st century, and Pakistan is among the countries most vulnerable to its effects. Rising temperatures, melting glaciers, changing precipitation patterns, and increasing frequency of extreme weather events are severely impacting Pakistanâ€™s ecosystem, economy, and society. This essay explores the causes, consequences, and potential solutions to global warming in Pakistan.'),\n",
       " Document(metadata={}, page_content='Causes of Global Warming in Pakistan'),\n",
       " Document(metadata={}, page_content='The primary driver of global warming in Pakistan, as elsewhere, is the excessive emission of greenhouse gases (GHGs) such as carbon dioxide (CO2), methane (CH4), and nitrous oxide (N2O). These emissions result from industrial activities, deforestation, and the burning of fossil fuels for energy production and transportation. In Pakistan, the major contributors to greenhouse gas emissions include:'),\n",
       " Document(metadata={}, page_content='Deforestation: Pakistan has one of the highest deforestation rates in the world. Large-scale cutting of trees for fuel, agriculture, and urban expansion has significantly reduced the countryâ€™s forest cover, thereby decreasing the natural absorption of CO2.'),\n",
       " Document(metadata={}, page_content='Energy Sector: The reliance on coal, oil, and gas for electricity generation and transportation contributes significantly to carbon emissions. Despite efforts to promote renewable energy, fossil fuels still dominate Pakistanâ€™s energy mix.'),\n",
       " Document(metadata={}, page_content='Agricultural Practices: Unsustainable agricultural methods, including excessive use of chemical fertilizers and inefficient irrigation techniques, contribute to methane and nitrous oxide emissions.'),\n",
       " Document(metadata={}, page_content='Industrialization: Rapid industrialization without adequate environmental regulations leads to unchecked emissions of pollutants that contribute to global warming.'),\n",
       " Document(metadata={}, page_content='Consequences of Global Warming in Pakistan'),\n",
       " Document(metadata={}, page_content='The impact of global warming in Pakistan is already evident in multiple ways:'),\n",
       " Document(metadata={}, page_content='Rising Temperatures: Pakistan has experienced record-breaking heatwaves in recent years. The temperature in some regions, such as Jacobabad and Sibi, has exceeded 50Â°C, making them among the hottest places on Earth.'),\n",
       " Document(metadata={}, page_content='Glacial Melting: The countryâ€™s glaciers, particularly in the northern regions, are melting at an alarming rate due to rising temperatures. This leads to glacial lake outburst floods (GLOFs), endangering nearby communities.'),\n",
       " Document(metadata={}, page_content='Water Scarcity: Changes in precipitation patterns and glacial melt are disrupting the water supply in Pakistan. The Indus River, the countryâ€™s primary water source, is becoming increasingly unpredictable, posing a threat to agriculture and drinking water availability.'),\n",
       " Document(metadata={}, page_content='Extreme Weather Events: Pakistan has witnessed a surge in extreme weather events, including floods, droughts, and storms. The devastating floods of 2022, which submerged one-third of the country and displaced millions, were exacerbated by climate change.'),\n",
       " Document(metadata={}, page_content='Agricultural Decline: Climate change is negatively affecting crop yields, leading to food insecurity and economic instability. The unpredictability of monsoons and the increased frequency of droughts have made farming increasingly difficult.'),\n",
       " Document(metadata={}, page_content='Health Risks: The rise in temperatures and air pollution has led to an increase in heat-related illnesses, respiratory diseases, and vector-borne diseases such as dengue and malaria.'),\n",
       " Document(metadata={}, page_content='Solutions to Global Warming in Pakistan'),\n",
       " Document(metadata={}, page_content='While Pakistan faces severe climate challenges, several measures can be taken to mitigate the impact of global warming:'),\n",
       " Document(metadata={}, page_content='Afforestation and Reforestation: Initiatives such as the Billion Tree Tsunami project should be expanded to increase forest cover and enhance carbon sequestration.'),\n",
       " Document(metadata={}, page_content='Renewable Energy Transition: Investing in solar, wind, and hydropower can reduce reliance on fossil fuels and decrease greenhouse gas emissions.'),\n",
       " Document(metadata={}, page_content='Sustainable Agriculture: The adoption of climate-smart agricultural practices, such as efficient irrigation and organic farming, can help reduce methane and nitrous oxide emissions.'),\n",
       " Document(metadata={}, page_content='Improved Water Management: Constructing more reservoirs, improving irrigation efficiency, and promoting water conservation can address water scarcity issues.'),\n",
       " Document(metadata={}, page_content='Disaster Preparedness and Adaptation: Strengthening early warning systems, building climate-resilient infrastructure, and implementing effective disaster management strategies can mitigate the impact of extreme weather events.'),\n",
       " Document(metadata={}, page_content='International Cooperation: Pakistan should actively participate in global climate initiatives, seek climate financing, and implement policies aligned with international climate agreements, such as the Paris Agreement.'),\n",
       " Document(metadata={}, page_content='Conclusion'),\n",
       " Document(metadata={}, page_content='Global warming is a critical threat to Pakistan, with far-reaching consequences for its environment, economy, and people. Addressing this crisis requires a multi-faceted approach that includes afforestation, renewable energy adoption, sustainable agriculture, and improved disaster preparedness. While the government has initiated several programs to combat climate change, more concerted efforts are needed at the national and international levels to secure a sustainable future for Pakistan. Only through collective action can the country mitigate the effects of global warming and build resilience against future climate challenges.')]"
      ]
     },
     "execution_count": 4,
     "metadata": {},
     "output_type": "execute_result"
    }
   ],
   "source": [
    "docs = \"\"\n",
    "\n",
    "with open('../Documnets/Global_Warming_Pak.txt') as file:\n",
    "    docs = file.read()\n",
    "\n",
    "\n",
    "text_splitter = CharacterTextSplitter(chunk_size=100, chunk_overlap=20)\n",
    "text = text_splitter.create_documents([docs])\n",
    "text"
   ]
  },
  {
   "cell_type": "code",
   "execution_count": null,
   "metadata": {},
   "outputs": [],
   "source": []
  }
 ],
 "metadata": {
  "kernelspec": {
   "display_name": "Python 3",
   "language": "python",
   "name": "python3"
  },
  "language_info": {
   "codemirror_mode": {
    "name": "ipython",
    "version": 3
   },
   "file_extension": ".py",
   "mimetype": "text/x-python",
   "name": "python",
   "nbconvert_exporter": "python",
   "pygments_lexer": "ipython3",
   "version": "3.12.5"
  }
 },
 "nbformat": 4,
 "nbformat_minor": 2
}
